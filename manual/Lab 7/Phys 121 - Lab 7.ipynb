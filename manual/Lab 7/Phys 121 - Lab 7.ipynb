{
 "cells": [
  {
   "cell_type": "markdown",
   "id": "a428ac10",
   "metadata": {},
   "source": [
    "# <div style=\"background-color:rgba(204, 229, 255, 0.5); text-align:center; vertical-align: middle; padding:40px 0; margin-top:30px\"><span style=\"color:rgba(0, 76, 153, 1);\">PHYS 121 Lab #7</span></div>\n",
    "# Earth's Magnetic Field"
   ]
  },
  {
   "cell_type": "markdown",
   "id": "5dd8cc12",
   "metadata": {},
   "source": [
    "***\n",
    "## Learning Objectives:\n",
    "* <b><span style=\"color:rgba(0, 153, 76, 1);\"> Gain an understanding of the duality between magnetism and electricity as described by Ampère's law and Faraday's law.  </span></b>\n",
    "* <b><span style=\"color:rgba(0, 153, 76, 1);\"> Use this duality to measure the properties of Earth's magnetic field at our posiition on the Earth's surface. </span></b>"
   ]
  },
  {
   "cell_type": "markdown",
   "id": "7b5f0cc3",
   "metadata": {},
   "source": [
    "***\n",
    "## Install & Import Required Packages:\n",
    "Before starting, place your cursor in the code cell below and press 'Shift' + 'Enter'.  If the 'Installer()' function reports that \"All packages already installed\", then proceed by executing the second code cell that begins with: \n",
    "``` python\n",
    "# Import the required modules\n",
    "```\n",
    "\n",
    "If 'Installer()' reports that some new packages have been installed, then run the cell with 'PHYS121.Installer()' again."
   ]
  },
  {
   "cell_type": "code",
   "execution_count": 1,
   "id": "89f548b1",
   "metadata": {},
   "outputs": [
    {
     "data": {
      "text/html": [
       "<text style=color:black>All packages already installed. Please proceed.</text>"
      ],
      "text/plain": [
       "<IPython.core.display.HTML object>"
      ]
     },
     "metadata": {},
     "output_type": "display_data"
    }
   ],
   "source": [
    "import PHYS121\n",
    "PHYS121.Installer()"
   ]
  },
  {
   "cell_type": "code",
   "execution_count": 2,
   "id": "d0e412ae",
   "metadata": {},
   "outputs": [],
   "source": [
    "# Import required modules\n",
    "import numpy as np\n",
    "import matplotlib.pyplot as plt\n",
    "import uncertainties\n",
    "from uncertainties import ufloat\n",
    "from uncertainties.umath import * \n",
    "import pandas as pd"
   ]
  },
  {
   "cell_type": "markdown",
   "id": "24fdfc62",
   "metadata": {},
   "source": [
    "***\n",
    "## Introduction:\n",
    "\n",
    "In 1820, the Danish physicist Hans Christian Ørsted observed that when he placed a compass near a current-carrying wire, the compass needle was deflected. This hinted towards a deep connection between electricity and magnetism, which would be vigourously investigated through the rest of the 19th century. The theory of **electromagnetism** is the result of that work. Its mathematical basis was completed by Maxwell in 1865 and verified experimentally by Hertz in the late 1880s and 90s.\n",
    "\n",
    "At this point, you may have learned in class about two important results in electromagnetism - **Faraday's law** and **Ampère's law**. Forgoing mathematical precision, the implications of these laws can be summarized as follows:\n",
    "* **Faraday's law**: a time-varying magnetic flux passing through a closed conducting loop will generate an electric current\n",
    "* **Ampère's law**: an electric current will generate a magnetic field, which forms a closed loop around the current\n",
    "\n",
    "Among the *many* direct applications of these laws are\n",
    "* **electrical generators**: mechanical energy (from combustion, movement of water over turbines, pressurized steam, etc.) is converted to electrical energy by rotating conducting loops of wire through a housing of stationary magnets, generating a current according to Faraday's law\n",
    "* **microphones**: sound waves cause vibrations in a small magnetic diaphragm, generating a current in a nearby coil with the *same* frequency content as the sound waves\n",
    "* **loudspeakers**: precisely the opposite of a microphone - a time-varying current through a loop creates a time-varying magnetic feild according to Ampère's law. This field causes a magnetized diaphragm to oscillate, which in turn vibrates the air, producing sound waves with the same frequency content as the electrical signal\n",
    "* **magnetic resonance imaging (MRI)**: atomic nuclii have intrinsic magnetic moments. Strong magnetic fields perturb nuclii in the body, generating characteristic electromagnetic signals which can be used to construct a 3D map of a patient's body. This requires strong magnetic fields, and the most common form of MRI machine used today creates these fields with liquid helium cooled superconducting electromagnets\n",
    "\n",
    "Today, you will be using an application of **Ampère's law** to measure the local magnetic field due to the earth. You will investigate **Faraday's law** next week in Lab 8.\n",
    "\n",
    "<br>\n",
    "<br>\n",
    "<p>\n",
    "<center>\n",
    "<img src=\"https://cmps-people.ok.ubc.ca/jbobowsk/PHYS_121_Lab/Lab7/images/solenoid.svg\" alt=\"image info\" style=\"width: 45%; height: auto;\" /><br>\n",
    "<b>Fig. 1: The magnetic field generated by a solenoid. Near the centre of the solenoid, the magnetic field lines are essentially parallel to the axis of the solenoid.  The magnetic field lines begin to curve near the ends of the solenoid. From <a href=\\\"https://commons.wikimedia.org/wiki/File:VFPt_Solenoid_correct3_Babs.svg\">Wikimedia Commons</a>, licenced under <a href=\\\"https://creativecommons.org/licenses/by-sa/3.0/legalcode\\\" rel=\\\"license\\\">CC BY-SA 3.0</a>.  </b></center>\n",
    "</p>"
   ]
  },
  {
   "cell_type": "markdown",
   "id": "05662352",
   "metadata": {},
   "source": [
    "# <div style=\"background-color:rgba(255, 204, 255, 0.5); text-align:center; vertical-align: middle; padding:40px 0; margin-top:30px\"><span style=\"color:rgba(102, 0, 204, 1);\">Part 1 - Measuring the Local Magnetic Field (90 minutes)</span></div>"
   ]
  },
  {
   "cell_type": "markdown",
   "id": "97dd0ed8",
   "metadata": {},
   "source": [
    "Recall that when the radius of a solenoid is much smaller than its length, the magnetic field $\\vec{B}_\\mathrm{Sol}$ in the middle of the coil is approximately\n",
    "\n",
    "\\begin{align}\n",
    "\\vec{B}_\\mathrm{Sol} = \\mu_0 n I\n",
    "\\label{eq:Bmag} \\tag{1}\n",
    "\\end{align}\n",
    "\n",
    "where $I$ is the current in the coil, $n$ is the **turn density**, or the number of turns per unit length, and $ \\mu_0 = 4\\pi \\times 10^{-7}\\rm\\ H/m$ is a constant, called the **permeability of free space**. \n",
    "\n",
    "In the pre-lab, you saw how it's possible to measure the local magnetic field using only a coil, a DC power source, and a compass. You should pause and reflect on the import of the results you obtained:\n",
    "\n",
    "> **Using mathematics and well-known physical laws, you obtained an expression for a quantity of interest in terms of a small handful of easily-measureable quantities.** \n",
    "\n",
    "As experimentalists, this is the kind of result we *love* to see. It suggests a clear course of action - to measure the magnetic field of the earth, we need only measure the angle between the compass needle and the axis of the solenoid as a function of the current $I$ in our solenoid (see Fig. 2 and its description).\n",
    "\n",
    "<br>\n",
    "<p>\n",
    "<center>\n",
    "<img src=\"https://cmps-people.ok.ubc.ca/jbobowsk/PHYS_121_Lab/Lab7/images/btot.svg\" style=\"width: 25%\" />\n",
    "<b>Fig. 2: The total magnetic field is given by superposition of the fixed local field $\\vec{B}_\\mathrm{Loc}$ and the variable solenoid field $\\vec{B}_\\mathrm{Sol}$. The direction of this total field (and thus the measured angle $\\varphi$) can be changed by varying the current of the solenoid. </b></center>\n",
    "</p>"
   ]
  },
  {
   "cell_type": "markdown",
   "id": "22b12d6a",
   "metadata": {},
   "source": [
    "***\n",
    "**<span style=\"color:blue\">Question 1.1:</span>**  \n",
    "\n",
    "From Eq. (1), we see that the field in the solenoid depends on the turn density $n$, which will vary from solenoid to solenoid. Count the number of turns $N$ of your solenoid and measure its length $L$ in meters. Use the provided code cell below to assign your measurement values to the variables $N$ and $L$. Then, define the constant $n$ equal to $N$ divided by $L$ (note that Python is a *case-sensitive* programming language). \n",
    "\n",
    "***\n",
    "**<span style=\"color:blue\">Answer 1.1:</span>**"
   ]
  },
  {
   "cell_type": "code",
   "execution_count": null,
   "id": "40584463",
   "metadata": {},
   "outputs": [],
   "source": [
    "# This cell will be auto-graded, so be sure to use the exact variable names specified above!\n",
    "L = ... # delete ... and enter your measured length in meters\n",
    "N = ... # delete ... and enter the number of loops of wire in your solenoid\n",
    "n = ... # delete ... and use L and N above to calculate n, the number of turns or loops per unit length"
   ]
  },
  {
   "cell_type": "markdown",
   "id": "6c125d98",
   "metadata": {},
   "source": [
    "***\n",
    "On your workstation, you will see a solenoid, a compass attached to a ruler, a DC power supply, and a $10 \\rm W$, $33 \\Omega$ resistor. The resistor should be placed in parallel with the circuit. This will serve to limit the current passing through the solenoid.\n",
    "\n",
    "Place the compass at the midpoint of your solenoid. Without any current passing through your solenoid, orient it on your table so that magnetic north is perpendicular to the axis of the solenoid. You should be careful to get this as *close* to $90^\\circ$ as possible! Your expression from pre-lab will not hold if the angle between the axis and the local field varies significantly from $90^\\circ$. \n",
    "\n",
    "As indicated in the pre-lab, you will be measuring the angle $\\varphi$ for a set of values of the current $I$. You found that by plotting $\\tan\\varphi$ as function of $I$ and performing a linear fit, the magnitude of the local field $\\left| \\vec{B}_{Loc} \\right| \\equiv B_\\mathrm{Loc}$ could be determined from the slope $m$.\n",
    "\n",
    "Using the provided phone, take pictures of the compass needle as you vary the current. You should take at least $15$ photos to get a good dataset. For example, you could start with the DC supply turned off and then increment the current by $30\\rm\\ mA$ until you reach $210\\rm\\ mA$.  You could then reverse the direction of current and then repeat the sequence of measurements. You may want to write the current on a piece of paper in view of the camera to help organize the results later. Once you've taken your photos, upload them to the computer. \n",
    "\n",
    "The following GIF offers one possible method for measuring the angle using a scalable vector graphic (SVG) protractor and excel. The protractor has been provided in the same file as this notebook. If you and your partner devise an alternative method for measuring the angle, you are more then welcome to use it (and we're all ears if you have a good idea!)."
   ]
  },
  {
   "cell_type": "markdown",
   "id": "4a1c1515",
   "metadata": {},
   "source": [
    "![SegmentLocal](https://raw.githubusercontent.com/UBC-Okanagan-Physics-Labs/PHYS-121-images/main/Lab-7/gifs/magmeas.gif)"
   ]
  },
  {
   "cell_type": "markdown",
   "id": "31b1aaff",
   "metadata": {},
   "source": [
    "Use the code cell below to import your data. You may wish to manipulate the data in Python or Excel, and you may import the data however you wish. **Appendix A** contains some helpful commands for working with DataFrames.\n",
    "<br>\n",
    "<br>\n",
    "No matter what you choose to do, by the end of the cell, you should have defined two arrays: one for $I$ and one for the corresponding values of $\\tan\\varphi$. **The tangent function in both Excel and Python assumes that $\\varphi$ is in radians.**"
   ]
  },
  {
   "cell_type": "code",
   "execution_count": null,
   "id": "56c76d94",
   "metadata": {},
   "outputs": [],
   "source": [
    "# Upload your data here\n",
    "\n"
   ]
  },
  {
   "cell_type": "markdown",
   "id": "f54ee1b8",
   "metadata": {},
   "source": [
    "Use the cell below to perform a linear fit of $\\tan\\varphi$ as a function of $I$. Refer to **Appendix B** at the end of this notebook for the syntax of an unweighted linear fit."
   ]
  },
  {
   "cell_type": "code",
   "execution_count": null,
   "id": "6ed7892b",
   "metadata": {},
   "outputs": [],
   "source": [
    "# Perform your unweighted linear fit here, using the vectors you defined in the previous cell.\n",
    "\n"
   ]
  },
  {
   "cell_type": "markdown",
   "id": "fadd3376",
   "metadata": {},
   "source": [
    "Finally, calculate $B_\\mathrm{Loc}$ from the slope above. The following cell will guide you through the calculation with popagation of errors. You may copy and paste your code from the pre-lab, but make sure that you change the variable names as needed.  You may assume that the uncertainty in $n$ is negligible. "
   ]
  },
  {
   "cell_type": "code",
   "execution_count": null,
   "id": "510d1c1c",
   "metadata": {},
   "outputs": [],
   "source": [
    "# Package the slope value and uncertainty into a \"ufloat\" object for propagation of error. \n",
    "# If you chose different variable names for the slope and its uncertainty in your linear fit, \n",
    "# substitute them for m and dm. \n",
    "m_unc = ufloat(m, dm)\n",
    "\n",
    "# Refer to the function you derived in Question 1.3 to calculate B_Loc. The uncertainties will be calculated\n",
    "# automatically if you use the m_unc variable for your slope.\n",
    "B_Loc = \n",
    "print(B_Loc)"
   ]
  },
  {
   "cell_type": "markdown",
   "id": "3c909464",
   "metadata": {},
   "source": [
    "***\n",
    "**<span style=\"color:blue\">Question 1.2:</span>**  \n",
    "\n",
    "Report your result, including units. To write a $\\pm$ symbol, you can type \\\\$\\pm\\\\$, or simply use +/-."
   ]
  },
  {
   "cell_type": "markdown",
   "id": "5d799dd8",
   "metadata": {},
   "source": [
    "***\n",
    "**<span style=\"color:blue\">Answer 1.2:</span>**\n",
    "\n",
    "[//]: # (Please do not delete this comment or anything above it.  Anything below this comment can be deleted.)  \n",
    "\n",
    "Double click this cell and enter your text here.  When done, hit 'Shift' + 'Enter' to execute the cell.  You may delete this text when entering your answer. \n",
    "***"
   ]
  },
  {
   "cell_type": "markdown",
   "id": "4d3414ab",
   "metadata": {},
   "source": [
    "# <div style=\"background-color:rgba(255, 204, 255, 0.5); text-align:center; vertical-align: middle; padding:40px 0; margin-top:30px\"><span style=\"color:rgba(102, 0, 204, 1);\">Part 2 - Magnetic Inclination (30 minutes)</span></div>"
   ]
  },
  {
   "cell_type": "markdown",
   "id": "ef99eab4",
   "metadata": {},
   "source": [
    "But wait... this all assumes that the magnetic field is completely parallel to the surface of Earth! The actual magnetic field turns out to be somewhat more complex. The angle between the *actual* direction of the field and the Earth's surface is called the **magnetic inclination** (or **magnetic dip**). The magnetic inclination varies from location to location, as Fig. 3 demonstrates.\n",
    "\n",
    "<p>\n",
    "<center>\n",
    "<img src=\"https://cmps-people.ok.ubc.ca/jbobowsk/PHYS_121_Lab/Lab7/images/magincl.svg\" alt=\"image info\" style=\"width: 100%; height: auto;\" /><br>\n",
    "<b>Fig. 3: Magnetic inclination at different points of the earth's surface. Source: <a href=\"http://www.ngdc.noaa.gov/geomag/WMM/image.shtml\">http://www.ngdc.noaa.gov/geomag/WMM/image.shtml</a> (Public domain)</b></center>\n",
    "</p>\n",
    "\n",
    "So the quantity we measured in Part 1 is actually the horizontal or *parallel* component of the local field, which we may denote as $B_{\\parallel}$. The total local magnetic field would be given by\n",
    "\n",
    "$$ B_\\mathrm{Earth} = \\sqrt{B_{\\parallel}^2 + B_{\\perp}^2} $$\n",
    "\n",
    "where $B_{\\perp}$ is the vertical of *perpendicular* component of the local magnetic field."
   ]
  },
  {
   "cell_type": "markdown",
   "id": "ad420b3f",
   "metadata": {},
   "source": [
    "***\n",
    "**<span style=\"color:blue\">Question 2.1:</span>**  \n",
    "\n",
    "Go to https://www.ngdc.noaa.gov/geomag/calculators/magcalc.shtml and find the *local* magnetic inclination, total magnetic field strength, and their associated uncertainties. Report these values using the code cell below.\n",
    "\n",
    "Note that, the angle will be denoted in terms of:\n",
    " - The angle to the nearest degree (eg. $15^\\circ$)\n",
    " - The number of arc minutes (eg. $48^\\prime$)\n",
    " - The number of arc seconds (eg. $16^{\\prime\\prime}$)\n",
    " \n",
    "To convert a number of arc minutes to a fraction of a degree, you divide the number of arc minutes by $60$.  Likewsie, to convert a number of arc seconds to degrees, you divide the number of arc seconds by $3600$.  So, for example, if an angle is reported as:\n",
    "\n",
    "\\begin{align}\n",
    "\\beta = 15^\\circ\\,48^\\prime\\,16^{\\prime\\prime},\n",
    "\\end{align}\n",
    "\n",
    "then the anlge in degrees is given by:\n",
    "\n",
    "\\begin{align}\n",
    "\\beta = 15 + \\frac{48}{60} + \\frac{16}{3600} = 15.8044^\\circ.\n",
    "\\end{align}\n",
    "\n",
    "***\n",
    "**<span style=\"color:blue\">Answer 2.1:</span>**"
   ]
  },
  {
   "cell_type": "code",
   "execution_count": null,
   "id": "03b067a9",
   "metadata": {},
   "outputs": [],
   "source": [
    "# The first argument of a ufloat is the value, and the second argument is the uncertainty.\n",
    "# For example if x = 5.24 +/- 0.08, we can define the quantity in ufload as: x = ufloat(5.24, 0.08)\n",
    "B_Earth = ufloat( , )\n",
    "incl = ufloat( , )"
   ]
  },
  {
   "cell_type": "markdown",
   "id": "9fbc5edf",
   "metadata": {},
   "source": [
    "***\n",
    "**<span style=\"color:blue\">Question 2.2:</span>**  \n",
    "\n",
    "Using the code cell below, calculate the magnetic inclination (in units of degrees) using the measured value of $B_\\parallel$ and the value of $B_\\mathrm{Earth}$ that you found from the NOAA website. \n",
    "\n",
    "***\n",
    "**<span style=\"color:blue\">Answer 2.2:</span>**"
   ]
  },
  {
   "cell_type": "code",
   "execution_count": null,
   "id": "3f191d04",
   "metadata": {},
   "outputs": [],
   "source": [
    "incl_meas = \n",
    "\n",
    "print(incl_meas)"
   ]
  },
  {
   "cell_type": "markdown",
   "id": "b5c1aa39",
   "metadata": {},
   "source": [
    "***\n",
    "**<span style=\"color:blue\">Question 2.3:</span>**  \n",
    "\n",
    "Compare this value to the one you found online. Are they equal within the margin of error? Comment on the relative values and speculate about possible sources of discrepancies. "
   ]
  },
  {
   "cell_type": "markdown",
   "id": "8e5dbc08",
   "metadata": {},
   "source": [
    "***\n",
    "**<span style=\"color:blue\">Answer 2.3:</span>**\n",
    "\n",
    "[//]: # (Please do not delete this comment or anything above it.  Anything below this comment can be deleted.)  \n",
    "\n",
    "Double click this cell and enter your text here.  When done, hit 'Shift' + 'Enter' to execute the cell.  You may delete this text when entering your answer. \n",
    "***"
   ]
  },
  {
   "cell_type": "markdown",
   "id": "e88cdc06",
   "metadata": {},
   "source": [
    "# <div style=\"background-color:rgba(255, 204, 255, 0.5); text-align:center; vertical-align: middle; padding:40px 0; margin-top:30px\"><span style=\"color:rgba(102, 0, 204, 1);\">Part 3 - Inhomogeneity of the Solenoid Field (30 minutes)</span></div>"
   ]
  },
  {
   "cell_type": "markdown",
   "id": "ecad22f4",
   "metadata": {},
   "source": [
    "Equation (1) gives an excellent approximation of the magnetic field at the centre of a finite solenoid. But what about the field at different points along the axis? Using the a ruler and the same method you used in Part 1, measure the angle between the compass needle and the axis of the solenoid with a fixed current $I$ for at least $9$ different positions $x$ along the length of the solenoid, including the endpoints and the midpoint.  It is best if you use a value of $I$ that causes the compass needle to be deflected by about $45^\\circ$ when the compass at the centre of the solenoid.  Define the position varible $x$ so that the endpoints are at $x = \\pm L/2$ and the midpoint is at $x = 0$.\n",
    "\n",
    "Enter your measurements into the cell below.\n",
    "\n",
    "***"
   ]
  },
  {
   "cell_type": "code",
   "execution_count": 3,
   "id": "6113c6b7",
   "metadata": {},
   "outputs": [],
   "source": [
    "# Enter you data between the square brackets and separate the values by a comma. Eg. x = [-4.5, -2.3, 0, 2.4, 3.6, 5.1]\n",
    "\n",
    "# Enter the values of the compass position in units of centmeters (cm). \n",
    "x = []\n",
    "\n",
    "# Enter the deflection of the compasss needle in units of degrees.\n",
    "phi = []"
   ]
  },
  {
   "cell_type": "markdown",
   "id": "ad1a6cd0",
   "metadata": {},
   "source": [
    "***\n",
    "In pre-lab question 2, you found an expression for $B_\\mathrm{Loc}$ in terms of $\\varphi$ and $B_\\mathrm{Sol}$. This expression can be inverted, allowing you to determine $B_\\mathrm{Sol}$ from the measured angle $\\varphi$ and the value of the horizontal component of $B_\\mathrm{Loc}$ found in Part 1 of the lab.\n",
    "\n",
    "In the cell below, calculate $B_\\mathrm{Sol}$ at each position $x$ of the compass."
   ]
  },
  {
   "cell_type": "code",
   "execution_count": null,
   "id": "8663a70e",
   "metadata": {},
   "outputs": [],
   "source": [
    "# Calculate B_Sol\n",
    "B_Sol = ..."
   ]
  },
  {
   "cell_type": "markdown",
   "id": "1b332a59",
   "metadata": {},
   "source": [
    "Now, generate a scatter plot showing your values of $B_\\mathrm{Sol}$ as a function of position $x$. Refer to **Appendix C** if you need a refresher on how to use the 'PHYS121.Scatter()' function."
   ]
  },
  {
   "cell_type": "code",
   "execution_count": null,
   "id": "c819ce91",
   "metadata": {},
   "outputs": [],
   "source": [
    "# Use this code block to generate your scatter plot\n",
    "PHYS121.Scatter(...) # Replace the ... with the appropriate arguments required by the 'PHYS121.Scatter()' function."
   ]
  },
  {
   "cell_type": "markdown",
   "id": "6ab5f698",
   "metadata": {},
   "source": [
    "***\n",
    "**<span style=\"color:blue\">Question 3.1:</span>**  \n",
    "\n",
    "Comment on your results. In particular, discuss *qualitatively* the field strength at the endpoints relative to the field strength at the midpoint. Do these results make intuitive sense to you? Why or why not? There are many ways to answer this question - think critically and don't worry about being exactly correct! "
   ]
  },
  {
   "cell_type": "markdown",
   "id": "a9361e31",
   "metadata": {},
   "source": [
    "***\n",
    "**<span style=\"color:blue\">Answer 3.1:</span>**\n",
    "\n",
    "[//]: # (Please do not delete this comment or anything above it.  Anything below this comment can be deleted.)  \n",
    "\n",
    "Double click this cell and enter your text here.  When done, hit 'Shift' + 'Enter' to execute the cell.  You may delete this text when entering your answer. \n",
    "***"
   ]
  },
  {
   "cell_type": "markdown",
   "id": "354b5997",
   "metadata": {},
   "source": [
    "# <div style=\"background-color:rgba(255, 204, 255, 0.5); text-align:center; vertical-align: middle; padding:40px 0; margin-top:30px\"><span style=\"color:rgba(102, 0, 204, 1);\">Part 4 - Reflection & statement of contributions (25 minutes)</span></div>"
   ]
  },
  {
   "cell_type": "markdown",
   "id": "28ecd9fe",
   "metadata": {},
   "source": [
    "Question 4.1 is used to reflect on the learning objectives stated at beginning of the notebook. \n",
    "***\n",
    "**<span style=\"color:blue\">Question 4.1:</span>**  \n",
    "\n",
    "Comment on how the relationship between electricity and magnetism was used to measure the local magnetic field. Consider, in particular, the *measurability* of different quantities. "
   ]
  },
  {
   "cell_type": "markdown",
   "id": "61e377cc",
   "metadata": {},
   "source": [
    "***\n",
    "**<span style=\"color:blue\">Answer 4.1:</span>**\n",
    "\n",
    "[//]: # (Please do not delete this comment or anything above it.  Anything below this comment can be deleted.)  \n",
    "\n",
    "Double click this cell and enter your text here.  When done, hit 'Shift' + 'Enter' to execute the cell.  You may delete this text when entering your answer. "
   ]
  },
  {
   "cell_type": "markdown",
   "id": "45984214",
   "metadata": {},
   "source": [
    "***\n",
    "Below, you will briefly summarize the contributions that you and your partner made when completely this lab.  Please ensure that both partners have a chance to engage in all types of lab activities (developing the experimental methods/data collection strategies, hands-on interaction with the apparatus/data collection, and data processing/analysis in the Jupyter notebook).  Note that statements of contributions are common in science.  The figure below shows one example taken from a 2021 paper published in the journal *Nature Physics*.\n",
    "\n",
    "<p>\n",
    "<center>\n",
    "<img src=\"https://cmps-people.ok.ubc.ca/jbobowsk/PHYS_121_Lab/Lab1/images/contributions.jpg\" alt=\"image info\" style=\"width: 60%; height: auto;\" /><br>\n",
    "<b>Fig. 4: A sample statement of author contributions from a recent journal article.</b></center>\n",
    "</p>"
   ]
  },
  {
   "cell_type": "markdown",
   "id": "482fce94",
   "metadata": {},
   "source": [
    "***\n",
    "**<span style=\"color:blue\">Question 4.2(a):</span>**  \n",
    "\n",
    "Answer this question only if you worked with a partner to complete this lab.\n",
    "\n",
    "In two or three sentences describe the specific contributions of **Partner A** to this lab.  For example, worked with the experimental apparatus to collect data for Part 1 of the lab, entered and processed the data in the Jupyter notebook for Part 2 of the lab, ...  "
   ]
  },
  {
   "cell_type": "markdown",
   "id": "7e119c32",
   "metadata": {},
   "source": [
    "***\n",
    "**<span style=\"color:blue\">Answer 4.2(a):</span>**\n",
    "\n",
    "[//]: # (Please do not delete this comment or anything above it.  Anything below this comment can be deleted.)  \n",
    "\n",
    "Double click this cell and enter your text here.  Please start be entering the name and student number of **Partner A**.  When done, hit 'Shift' + 'Enter' to execute the cell.  You may delete this text when entering your answer. "
   ]
  },
  {
   "cell_type": "markdown",
   "id": "67076ab5",
   "metadata": {},
   "source": [
    "***\n",
    "**<span style=\"color:blue\">Question 4.2(b):</span>**  \n",
    "\n",
    "Answer this question only if you worked with a partner to complete this lab.\n",
    "\n",
    "In two or three sentences describe the specific contributions of **Partner B** to this lab.  "
   ]
  },
  {
   "cell_type": "markdown",
   "id": "e4a35737",
   "metadata": {},
   "source": [
    "***\n",
    "**<span style=\"color:blue\">Answer 4.2(b):</span>**\n",
    "\n",
    "[//]: # (Please do not delete this comment or anything above it.  Anything below this comment can be deleted.)  \n",
    "\n",
    "Double click this cell and enter your text here.  Please start be entering the name and student number of **Partner B**.  When done, hit 'Shift' + 'Enter' to execute the cell.  You may delete this text when entering your answer. "
   ]
  },
  {
   "cell_type": "markdown",
   "id": "dca72303",
   "metadata": {},
   "source": [
    "***\n",
    "**<span style=\"color:blue\">Question 4.3:</span>**  \n",
    "\n",
    "We welcome your feedback on the PHYS 121 labs!  Please feel free to include any comments you have about this lab in the cell below.  Your comments will be taken into consideration when revising/improving the PHYS 121 labs.  You can suggest improvements, point out anything that was unclear, comment on the strengths and weaknesses of the lab, ...\n",
    "\n",
    "This question is optional and will have no impact on your lab grade."
   ]
  },
  {
   "cell_type": "markdown",
   "id": "605e828f",
   "metadata": {},
   "source": [
    "***\n",
    "**<span style=\"color:blue\">Answer 4.3:</span>**\n",
    "\n",
    "[//]: # (Please do not delete this comment or anything above it.  Anything below this comment can be deleted.)  \n",
    "\n",
    "Double click this cell and enter your text here.  When done, hit 'Shift' + 'Enter' to execute the cell.  You may delete this text when entering your answer. "
   ]
  },
  {
   "cell_type": "markdown",
   "id": "9b5f4987",
   "metadata": {},
   "source": [
    "# <div style=\"background-color:rgba(255, 204, 255, 0.5); text-align:center; vertical-align: middle; padding:40px 0; margin-top:30px\"><span style=\"color:rgba(102, 0, 204, 1);\">Part 5 - Playground (optional)</span></div>\n",
    "\n",
    "Feel free to add as many cells as you like below and use them as a playground for further independent investigations.  These cells won't be graded, so feel free to use them in any way that you like.  "
   ]
  },
  {
   "cell_type": "code",
   "execution_count": 4,
   "id": "260bcf62",
   "metadata": {},
   "outputs": [],
   "source": [
    "# Here's an empty code cell that you can use.  "
   ]
  },
  {
   "cell_type": "code",
   "execution_count": 5,
   "id": "ade7f9bc",
   "metadata": {},
   "outputs": [],
   "source": [
    "# Here's another empty code cell that you can use."
   ]
  },
  {
   "cell_type": "code",
   "execution_count": 6,
   "id": "02e56275",
   "metadata": {},
   "outputs": [],
   "source": [
    "# Here's yet another empty code cell that you can use.  \n",
    "# If you need more, you can add cells using the '+' icon in the menu bar at to the top of the screen."
   ]
  },
  {
   "cell_type": "markdown",
   "id": "1313bf44",
   "metadata": {},
   "source": [
    "### <div style=\"background-color:rgba(255, 255, 102, 0.5); text-align:left; padding:20px 0; margin-top:20px\">$\\quad$Appendix A &ndash; DataFrames...</div>\n",
    "\n",
    "The basic syntax for manually defining a DataFrame is the following:\n",
    "```python\n",
    "df = pd.DataFrame({\"Column 1\": [],\n",
    "                   \"Column 2\": [],\n",
    "                   \"Column 3\": [],\n",
    "                  })\n",
    "```\n",
    "You can name it whatever you'd like (it doesn't have to be called \"df\") and you can add as many columns as you need. Note that each column must have the same number of rows - that is, each list must have the same number entries. \n",
    "\n",
    "If you are importing from a .csv file, the first row of each column is by default taken to be that column's name. The basic syntax is\n",
    "```python\n",
    "    df = pd.read_csv(\"filename.csv\") # for .csv files\n",
    "```\n",
    "\n",
    "\n",
    "If your .csv file does not have column names, you can skip this option and define your columns directly:\n",
    "```python\n",
    "    df = pd.read_csv(\"filename.csv\", header = None, names = [\"Column 1\", \"Column 2\", \"Column 3\"])\n",
    "```\n",
    "\n",
    "For both of the previous examples, if your file is a .xlsx file, you can replace \"read_csv\" with \"read_excel\".\n",
    "\n",
    "To print your DataFrame as a table, simply call\n",
    "```python\n",
    "    print(df)\n",
    "```\n",
    "\n",
    "You may extract a column as a 1D numpy array or the entire DataFrame as a 2D numpy array using the .to_numpy() method:\n",
    "```python\n",
    "    array1 = df[\"Column1\"].to_numpy()\n",
    "    dataArray = df.to_numpy()\n",
    "```\n",
    "\n",
    "This appendix only scratches the surface of DataFrames. It is a very commonly used package, so most inquiries you have can be answered by a simple online search. The [Pandas documentation](https://pandas.pydata.org/docs/index.html) is another excellent resource to use if you want to learn more."
   ]
  },
  {
   "cell_type": "markdown",
   "id": "e338ffa6",
   "metadata": {},
   "source": [
    "### <div style=\"background-color:rgba(255, 255, 102, 0.5); text-align:left; padding:20px 0; margin-top:20px\">$\\quad$Appendix B &ndash; The LinearFit Function...</div>\n",
    "\n",
    "The linear-fit function is called as follows:\n",
    "```python\n",
    "LinearFit(xData, yData, yErrors = [], xlabel = 'x-axis', ylabel = 'y-axis', xUnits = '', yUnits = '', fill = False)\n",
    "```\n",
    "The xData and yData lists are required.  The others are optional with default values set.  The function returns the following outputs:\n",
    "```python\n",
    "Slope, Yintercept, errSlope, errYintercept, fig\n",
    "```\n",
    "The first four outputs are numerical values and 'fig' is the formatted plot. \n",
    "\n",
    "If $y$-uncertainities are provided, the function will perform a weighted fit.  The $y$-uncertainties list must be the same length as $x$- and $y$-data lists.  If $y$-uncertainties are not provided, the fit will be unweighted.  The other optional arguments include $x$- and $y$-axis names and units for the $x$- and $y$-datasets.  These must be entered as strings (enclosed in quotations) and they are used for formatting the outputs of the function.  If 'fill' is set to True, shading will be added around the best-fit line representing confindence intervals. \n",
    "\n",
    "### Unweighted Fit Example Implmentation\n",
    "The code block below shows the most basic use of 'LinearFit' for an unweighted fit without any of the optional arguments.\n",
    "```python\n",
    "import PHYS121\n",
    "V = [1, 2, 3, 4]\n",
    "I = [0.12, 0.198, 0.285, 0.412]\n",
    "m, b, dm, db, fig = PHYS121.LinearFit(V, I)\n",
    "```\n",
    "\n",
    "### Weighted Fit Example Implmentation\n",
    "This second blcok of code shows how to use 'LinearFit' to do a weighted fit.  It also makes use of all of the other optional arguments.  \n",
    "```python\n",
    "import PHYS121\n",
    "V = [1, 2, 3, 4]\n",
    "I = [0.12, 0.198, 0.285, 0.412]\n",
    "errI = [0.005, 0.012, 0.020, 0.025]\n",
    "m, b, dm, db, fig = PHYS121.LinearFit(V, I, errI, 'voltage' , 'current', 'V', 'A', True)\n",
    "```\n",
    "\n",
    "The 'm, b, dm, db, fig = ...' syntax is used to store the function outputs in varibles.  If you're interested in details of the fitting process, see the following Python-based tutorial: https://cmps-people.ok.ubc.ca/jbobowsk/Python/html/Jupyter%20Weighted%20Linear%20Fit.html\n",
    "***"
   ]
  },
  {
   "cell_type": "markdown",
   "id": "8ad5eda6",
   "metadata": {},
   "source": [
    "### <div style=\"background-color:rgba(255, 255, 102, 0.5); text-align:left; padding:20px 0; margin-top:20px\">$\\quad$Appendix C &ndash; The Scatter Function...</div>\n",
    "\n",
    "The function for generating scatter plots is called as follows:\n",
    "```python\n",
    "Scatter(xData, yData, yErrors = [], xlabel = 'x-axis', ylabel = 'y-axis', xUnits = '', yUnits = '', fill = False, show = True)\n",
    "```\n",
    "The 'xData' and 'yData' inputs are required, all other arguments are optional with default values set.  The function returns the a single output (the formatted plot):\n",
    "```python\n",
    "fig\n",
    "```\n",
    "\n",
    "The function will do a simple scatter plot if no 'yError' are included.  It will included error bars if 'yErrors' are passed to the function.  The 'fill' and 'show' arguments should generally be false.  \n",
    "\n",
    "If the 'xData' list is empty, as in:\n",
    "```python\n",
    "xData = []\n",
    "```\n",
    "then the x-axis will be the trial number.  For example, is 'xData' is empty and 'yData' has 10 elements, the x-axis will span 1 to 10.\n",
    "\n",
    "### Scatter Example Implmentation\n",
    "The code block below shows an implementation of 'Scatter'.\n",
    "```python\n",
    "import PHYS121\n",
    "theta = [10, 20, 30] # degrees\n",
    "T = [2.02, 1.95, 2.13] # s\n",
    "errT = [0.02, 0.02, 0.03] # s\n",
    "fig = PHYS121.Scatter(theta, T, errT, 'initial angle' , 'period', 'degrees', 's')\n",
    "```\n",
    "\n",
    "If you're interested in generating your own plots with customized formatting, see the following Python-based plotting tutorial: https://cmps-people.ok.ubc.ca/jbobowsk/Python/html/Jupyter%20Basic%20Plots.html.\n",
    "***"
   ]
  },
  {
   "cell_type": "markdown",
   "id": "ab8d9153",
   "metadata": {},
   "source": [
    "Last update: February 23, 2023"
   ]
  }
 ],
 "metadata": {
  "kernelspec": {
   "display_name": "Python 3 (ipykernel)",
   "language": "python",
   "name": "python3"
  },
  "language_info": {
   "codemirror_mode": {
    "name": "ipython",
    "version": 3
   },
   "file_extension": ".py",
   "mimetype": "text/x-python",
   "name": "python",
   "nbconvert_exporter": "python",
   "pygments_lexer": "ipython3",
   "version": "3.8.8"
  }
 },
 "nbformat": 4,
 "nbformat_minor": 5
}
